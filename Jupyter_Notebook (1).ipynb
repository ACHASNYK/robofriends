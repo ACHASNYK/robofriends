{
 "cells": [
  {
   "cell_type": "markdown",
   "metadata": {},
   "source": [
    "<center>\n",
    "    <img src=\"https://cf-courses-data.s3.us.cloud-object-storage.appdomain.cloud/IBMDeveloperSkillsNetwork-DS0105EN-SkillsNetwork/labs/Module2/images/SN_web_lightmode.png\" width=\"300\" alt=\"cognitiveclass.ai logo\"  />\n",
    "</center>\n"
   ]
  },
  {
   "cell_type": "markdown",
   "metadata": {},
   "source": [
    "#### Add your code below following the instructions given in the course\n"
   ]
  },
  {
   "cell_type": "markdown",
   "metadata": {
    "tags": []
   },
   "source": [
    "# My Jupyter Notebook on IBM Watson Studio"
   ]
  },
  {
   "cell_type": "markdown",
   "metadata": {},
   "source": [
    "__Hi, my name is Anton Chesnokov__\n",
    "\n",
    "I am a Conversational AI Trainer"
   ]
  },
  {
   "cell_type": "markdown",
   "metadata": {},
   "source": [
    "_I wonder, can a Machine dream? Only Data Science and its AI subset are capable answering that. So far I am in now for this exciting journey deep into data and deep into science._"
   ]
  },
  {
   "cell_type": "markdown",
   "metadata": {},
   "source": [
    "### This is code snippet for a Fibonacci sequence "
   ]
  },
  {
   "cell_type": "code",
   "execution_count": 2,
   "metadata": {},
   "outputs": [
    {
     "name": "stdout",
     "output_type": "stream",
     "text": [
      "Fibonacci sequence:\n",
      "0\n",
      "1\n",
      "1\n",
      "2\n",
      "3\n",
      "5\n",
      "8\n"
     ]
    }
   ],
   "source": [
    "def fibonacci(input):\n",
    "    n1, n2 = 0, 1\n",
    "    count = 0\n",
    "    print(\"Fibonacci sequence:\")\n",
    "    while count < input:\n",
    "        print(n1)\n",
    "        nth = n1 + n2\n",
    "        n1 = n2\n",
    "        n2 = nth\n",
    "        count += 1\n",
    "\n",
    "        \n",
    "fibonacci(7)"
   ]
  },
  {
   "cell_type": "markdown",
   "metadata": {},
   "source": [
    "<ul>\n",
    "<li>0</li>\n",
    "<li>1</li>\n",
    "<li>1</li>\n",
    "<li>2</li>\n",
    "<li>3</li>\n",
    "<li>5</li>\n",
    "<li>8</li>\n",
    "</ul>\n",
    "\n",
    "\n",
    "<a href=\"https://en.wikipedia.org/wiki/Fibonacci_number\">Who is Fibonacci  and what is his sequence definition?</a>\n",
    "<img src=\"https://nationaltoday.com/wp-content/uploads/2021/11/FIBONACCI-DAY-nov-23-640x514.jpg\" width =\"500\" height=500 />"
   ]
  },
  {
   "cell_type": "markdown",
   "metadata": {},
   "source": [
    "<table style=\"width:50%\">\n",
    "<tr>\n",
    "<th>Capital</th>\n",
    "<th>Country</th>\n",
    "<th>Population in mln</th>\n",
    "</tr>\n",
    "\n",
    "<tr>\n",
    "<td>Beijing</td>\n",
    "<td>China</td>\n",
    "<td>21,5</td>\n",
    "</tr>\n",
    "\n",
    "<tr>\n",
    "<td>Tokyo</td>\n",
    "<td>Japan</td>\n",
    "<td>13,9</td>\n",
    "</tr>\n",
    "</table>"
   ]
  },
  {
   "cell_type": "code",
   "execution_count": null,
   "metadata": {},
   "outputs": [],
   "source": []
  }
 ],
 "metadata": {
  "kernelspec": {
   "display_name": "Python",
   "language": "python",
   "name": "conda-env-python-py"
  },
  "language_info": {
   "codemirror_mode": {
    "name": "ipython",
    "version": 3
   },
   "file_extension": ".py",
   "mimetype": "text/x-python",
   "name": "python",
   "nbconvert_exporter": "python",
   "pygments_lexer": "ipython3",
   "version": "3.7.12"
  }
 },
 "nbformat": 4,
 "nbformat_minor": 4
}
